{
 "cells": [
  {
   "cell_type": "code",
   "execution_count": 108,
   "metadata": {
    "scrolled": true
   },
   "outputs": [],
   "source": [
    "import re\n",
    "import requests                \n",
    "from bs4 import BeautifulSoup\n",
    "import pandas as pd\n",
    "import matplotlib.pyplot as plt\n",
    "\n",
    "\n",
    "# url address to request web page\n",
    "URL = \"https://en.wikipedia.org/wiki/List_of_presidents_of_the_United_States\"\n",
    "try:\n",
    "    r = requests.get(URL).text\n",
    "except Exception as e:\n",
    "    print(e)\n",
    "\n",
    "page = open('List_of_presidents_of_the_United_States.html', 'r').read()\n",
    "\n",
    "soup = BeautifulSoup(r, 'lxml')\n",
    "\n",
    "table = soup.find('table', {'class': 'wikitable'})\n",
    "\n",
    "\n",
    "def tableDataText(table):    \n",
    "    \"\"\"Parses a html segment started with tag <table> followed \n",
    "    by multiple <tr> (table rows) and inner <td> (table data) tags. \n",
    "    It returns a list of rows with inner columns. \n",
    "    Accepts only one <th> (table header/data) in the first row.\n",
    "    \"\"\"\n",
    "    def rowgetDataText(tr, coltag='td'): # td (data) or th (header)\n",
    "        return [td.get_text(strip=True) for td in tr.find_all(coltag)]  \n",
    "    rows = []\n",
    "    trs = table.find_all('tr')\n",
    "    headerow = rowgetDataText(trs[0], 'th')\n",
    "    if headerow: # if there is a header row include first\n",
    "        rows.append(headerow)\n",
    "        trs = trs[1:]\n",
    "    for tr in trs: # for every table row\n",
    "        rows.append(rowgetDataText(tr, 'td') ) # data row       \n",
    "    return rows\n",
    "\n",
    "headers = ['Number', 'Presidency', 'Image', 'Presidents', 'Prior Office',\n",
    "           'black', 'Party', 'Election', 'Vice President']\n",
    "\n",
    "list_table = tableDataText(table)\n",
    "dataframe = pd.DataFrame(list_table[2:], columns=headers)\n",
    "\n",
    "def first_names_tot_presidents():\n",
    "    names = []\n",
    "    for name in dataframe['Presidents']:\n",
    "        if name:\n",
    "            names.append(name.split()[0])\n",
    "    return names, len(names)\n"
   ]
  },
  {
   "cell_type": "code",
   "execution_count": 97,
   "metadata": {},
   "outputs": [
    {
     "data": {
      "text/html": [
       "<div>\n",
       "<style scoped>\n",
       "    .dataframe tbody tr th:only-of-type {\n",
       "        vertical-align: middle;\n",
       "    }\n",
       "\n",
       "    .dataframe tbody tr th {\n",
       "        vertical-align: top;\n",
       "    }\n",
       "\n",
       "    .dataframe thead th {\n",
       "        text-align: right;\n",
       "    }\n",
       "</style>\n",
       "<table border=\"1\" class=\"dataframe\">\n",
       "  <thead>\n",
       "    <tr style=\"text-align: right;\">\n",
       "      <th></th>\n",
       "      <th>Number</th>\n",
       "      <th>Presidency</th>\n",
       "      <th>Image</th>\n",
       "      <th>Presidents</th>\n",
       "      <th>Prior Office</th>\n",
       "      <th>black</th>\n",
       "      <th>Party</th>\n",
       "      <th>Election</th>\n",
       "      <th>Vice President</th>\n",
       "    </tr>\n",
       "  </thead>\n",
       "  <tbody>\n",
       "    <tr>\n",
       "      <th>0</th>\n",
       "      <td>1</td>\n",
       "      <td>April 30, 1789[d]–March 4, 1797</td>\n",
       "      <td></td>\n",
       "      <td>George Washington1732–1799(Lived 67 years)[3][...</td>\n",
       "      <td>Commander-in-Chiefof theContinental Army(1775–...</td>\n",
       "      <td></td>\n",
       "      <td>Unaffiliated[2]</td>\n",
       "      <td>1788–89</td>\n",
       "      <td>John Adams[e][f]</td>\n",
       "    </tr>\n",
       "    <tr>\n",
       "      <th>1</th>\n",
       "      <td>1792</td>\n",
       "      <td>None</td>\n",
       "      <td>None</td>\n",
       "      <td>None</td>\n",
       "      <td>None</td>\n",
       "      <td>None</td>\n",
       "      <td>None</td>\n",
       "      <td>None</td>\n",
       "      <td>None</td>\n",
       "    </tr>\n",
       "    <tr>\n",
       "      <th>2</th>\n",
       "      <td>2</td>\n",
       "      <td>March 4, 1797–March 4, 1801</td>\n",
       "      <td></td>\n",
       "      <td>John Adams1735–1826(Lived 90 years)[6][7][8]</td>\n",
       "      <td>1stvice president of the United States(1789–1797)</td>\n",
       "      <td></td>\n",
       "      <td>Federalist</td>\n",
       "      <td>1796</td>\n",
       "      <td>Thomas Jefferson[g]</td>\n",
       "    </tr>\n",
       "    <tr>\n",
       "      <th>3</th>\n",
       "      <td>3</td>\n",
       "      <td>March 4, 1801–March 4, 1809</td>\n",
       "      <td></td>\n",
       "      <td>Thomas Jefferson1743–1826(Lived 83 years)[9][1...</td>\n",
       "      <td>2ndvice president of the United States(1797–1801)</td>\n",
       "      <td></td>\n",
       "      <td>Democratic-Republican</td>\n",
       "      <td>1800</td>\n",
       "      <td>Aaron BurrMarch 4, 1801–March 4, 1805</td>\n",
       "    </tr>\n",
       "    <tr>\n",
       "      <th>4</th>\n",
       "      <td>1804</td>\n",
       "      <td>George ClintonMarch 4, 1805–March 4, 1809</td>\n",
       "      <td>None</td>\n",
       "      <td>None</td>\n",
       "      <td>None</td>\n",
       "      <td>None</td>\n",
       "      <td>None</td>\n",
       "      <td>None</td>\n",
       "      <td>None</td>\n",
       "    </tr>\n",
       "    <tr>\n",
       "      <th>...</th>\n",
       "      <td>...</td>\n",
       "      <td>...</td>\n",
       "      <td>...</td>\n",
       "      <td>...</td>\n",
       "      <td>...</td>\n",
       "      <td>...</td>\n",
       "      <td>...</td>\n",
       "      <td>...</td>\n",
       "      <td>...</td>\n",
       "    </tr>\n",
       "    <tr>\n",
       "      <th>75</th>\n",
       "      <td>43</td>\n",
       "      <td>January 20, 2001–January 20, 2009</td>\n",
       "      <td></td>\n",
       "      <td>George W. BushBorn 1946(73 years old)[126][127...</td>\n",
       "      <td>46thgovernor of Texas(1995–2000)</td>\n",
       "      <td></td>\n",
       "      <td>Republican</td>\n",
       "      <td>2000</td>\n",
       "      <td>Dick Cheney</td>\n",
       "    </tr>\n",
       "    <tr>\n",
       "      <th>76</th>\n",
       "      <td>2004</td>\n",
       "      <td>None</td>\n",
       "      <td>None</td>\n",
       "      <td>None</td>\n",
       "      <td>None</td>\n",
       "      <td>None</td>\n",
       "      <td>None</td>\n",
       "      <td>None</td>\n",
       "      <td>None</td>\n",
       "    </tr>\n",
       "    <tr>\n",
       "      <th>77</th>\n",
       "      <td>44</td>\n",
       "      <td>January 20, 2009–January 20, 2017</td>\n",
       "      <td></td>\n",
       "      <td>Barack ObamaBorn 1961(58 years old)[129][130][...</td>\n",
       "      <td>U.S. senator(Class 3)fromIllinois(2005–2008)</td>\n",
       "      <td></td>\n",
       "      <td>Democratic</td>\n",
       "      <td>2008</td>\n",
       "      <td>Joe Biden</td>\n",
       "    </tr>\n",
       "    <tr>\n",
       "      <th>78</th>\n",
       "      <td>2012</td>\n",
       "      <td>None</td>\n",
       "      <td>None</td>\n",
       "      <td>None</td>\n",
       "      <td>None</td>\n",
       "      <td>None</td>\n",
       "      <td>None</td>\n",
       "      <td>None</td>\n",
       "      <td>None</td>\n",
       "    </tr>\n",
       "    <tr>\n",
       "      <th>79</th>\n",
       "      <td>45</td>\n",
       "      <td>January 20, 2017–Incumbent</td>\n",
       "      <td></td>\n",
       "      <td>Donald TrumpBorn 1946(73 years old)[132][133]</td>\n",
       "      <td>President and Chairman of The Trump Organizati...</td>\n",
       "      <td></td>\n",
       "      <td>Republican</td>\n",
       "      <td>2016</td>\n",
       "      <td>Mike Pence</td>\n",
       "    </tr>\n",
       "  </tbody>\n",
       "</table>\n",
       "<p>80 rows × 9 columns</p>\n",
       "</div>"
      ],
      "text/plain": [
       "   Number                                 Presidency Image  \\\n",
       "0       1            April 30, 1789[d]–March 4, 1797         \n",
       "1    1792                                       None  None   \n",
       "2       2                March 4, 1797–March 4, 1801         \n",
       "3       3                March 4, 1801–March 4, 1809         \n",
       "4    1804  George ClintonMarch 4, 1805–March 4, 1809  None   \n",
       "..    ...                                        ...   ...   \n",
       "75     43          January 20, 2001–January 20, 2009         \n",
       "76   2004                                       None  None   \n",
       "77     44          January 20, 2009–January 20, 2017         \n",
       "78   2012                                       None  None   \n",
       "79     45                 January 20, 2017–Incumbent         \n",
       "\n",
       "                                           Presidents  \\\n",
       "0   George Washington1732–1799(Lived 67 years)[3][...   \n",
       "1                                                None   \n",
       "2        John Adams1735–1826(Lived 90 years)[6][7][8]   \n",
       "3   Thomas Jefferson1743–1826(Lived 83 years)[9][1...   \n",
       "4                                                None   \n",
       "..                                                ...   \n",
       "75  George W. BushBorn 1946(73 years old)[126][127...   \n",
       "76                                               None   \n",
       "77  Barack ObamaBorn 1961(58 years old)[129][130][...   \n",
       "78                                               None   \n",
       "79      Donald TrumpBorn 1946(73 years old)[132][133]   \n",
       "\n",
       "                                         Prior Office black  \\\n",
       "0   Commander-in-Chiefof theContinental Army(1775–...         \n",
       "1                                                None  None   \n",
       "2   1stvice president of the United States(1789–1797)         \n",
       "3   2ndvice president of the United States(1797–1801)         \n",
       "4                                                None  None   \n",
       "..                                                ...   ...   \n",
       "75                   46thgovernor of Texas(1995–2000)         \n",
       "76                                               None  None   \n",
       "77       U.S. senator(Class 3)fromIllinois(2005–2008)         \n",
       "78                                               None  None   \n",
       "79  President and Chairman of The Trump Organizati...         \n",
       "\n",
       "                    Party Election                         Vice President  \n",
       "0         Unaffiliated[2]  1788–89                       John Adams[e][f]  \n",
       "1                    None     None                                   None  \n",
       "2              Federalist     1796                    Thomas Jefferson[g]  \n",
       "3   Democratic-Republican     1800  Aaron BurrMarch 4, 1801–March 4, 1805  \n",
       "4                    None     None                                   None  \n",
       "..                    ...      ...                                    ...  \n",
       "75             Republican     2000                            Dick Cheney  \n",
       "76                   None     None                                   None  \n",
       "77             Democratic     2008                              Joe Biden  \n",
       "78                   None     None                                   None  \n",
       "79             Republican     2016                             Mike Pence  \n",
       "\n",
       "[80 rows x 9 columns]"
      ]
     },
     "execution_count": 97,
     "metadata": {},
     "output_type": "execute_result"
    }
   ],
   "source": [
    "# show the dataframe remove Nan Values\n",
    "dataframe"
   ]
  },
  {
   "cell_type": "code",
   "execution_count": null,
   "metadata": {},
   "outputs": [],
   "source": [
    "# How many presidents on the page\n",
    "number = first_names_tot_presidents()[1]\n",
    "print(f\"How many presidents on the page : {number}\")\n"
   ]
  },
  {
   "cell_type": "code",
   "execution_count": 56,
   "metadata": {},
   "outputs": [
    {
     "name": "stdout",
     "output_type": "stream",
     "text": [
      "['Abraham Lincoln1809–1865(Lived 56 years)[48][49][50]', 'James A. Garfield1831–1881(Lived 49 years)[60][61][62]', 'William McKinley1843–1901(Lived 58 years)[72][73][74]', 'John F. Kennedy1917–1963(Lived 46 years)[102][103][104]']\n"
     ]
    }
   ],
   "source": [
    "# Which presidents were assasinated\n",
    "assassination_pattern = re.compile(r'''Assassinated''')\n",
    "assassinated = []\n",
    "for index in range(len(dataframe['Presidency'])):\n",
    "    if dataframe['Presidency'][index]:\n",
    "        if assassination_pattern.search(dataframe['Presidency'][index]):\n",
    "            assassinated.append(dataframe['Presidents'][index])\n",
    "print(assassinated)\n"
   ]
  },
  {
   "cell_type": "code",
   "execution_count": 130,
   "metadata": {},
   "outputs": [
    {
     "name": "stdout",
     "output_type": "stream",
     "text": [
      "[]\n"
     ]
    }
   ],
   "source": [
    "# presidents selected after serving as senators\n",
    "senators = []\n",
    "senator_pattern = re.compile(r'''^U.S Senator$''')\n",
    "for index in range(len(dataframe['Prior Office'])):\n",
    "    if dataframe['Prior Office'][index]:\n",
    "        if senator_pattern.search(dataframe['Prior Office'][index]):\n",
    "            senators.append(dataframe['Presidents'][index])\n",
    "print(senators)\n",
    "\n"
   ]
  },
  {
   "cell_type": "code",
   "execution_count": 80,
   "metadata": {},
   "outputs": [
    {
     "name": "stdout",
     "output_type": "stream",
     "text": [
      "['John Adams1735–1826(Lived 90 years)[6][7][8]', 'Thomas Jefferson1743–1826(Lived 83 years)[9][10][11]', 'Martin Van Buren1782–1862(Lived 79 years)[24][25][26]', 'John Tyler1790–1862(Lived 71 years)[30][31][32]', 'Millard Fillmore1800–1874(Lived 74 years)[39][40][41]', 'Andrew Johnson1808–1875(Lived 66 years)[51][52][53]', 'Chester A. Arthur1829–1886(Lived 57 years)[63][64][65]', 'Theodore Roosevelt1858–1919(Lived 60 years)[75][76][77]', 'Calvin Coolidge1872–1933(Lived 60 years)[87][88][89]', 'Harry S. Truman1884–1972(Lived 88 years)[96][97][98]', 'Lyndon B. Johnson1908–1973(Lived 64 years)[105][106][107]', 'Richard Nixon1913–1994(Lived 81 years)[108][109][110]', 'Gerald Ford1913–2006(Lived 93 years)[111][112][113]', 'George H. W. Bush1924–2018(Lived 94 years)[120][121][122]']\n"
     ]
    }
   ],
   "source": [
    "# presidents selected after serving as vice presidents\n",
    "vices = []\n",
    "vp_pattern = re.compile(r'vice president')\n",
    "for index in range(len(dataframe['Prior Office'])):\n",
    "    if dataframe['Prior Office'][index]:\n",
    "        if vp_pattern.search(dataframe['Prior Office'][index]):\n",
    "            vices.append(dataframe['Presidents'][index])\n",
    "print(vices)\n"
   ]
  },
  {
   "cell_type": "code",
   "execution_count": 61,
   "metadata": {},
   "outputs": [],
   "source": [
    "# which president had one VP for duration of term\n",
    "def with_one_vp_on_term():\n",
    "    pass\n",
    "\n"
   ]
  },
  {
   "cell_type": "code",
   "execution_count": 261,
   "metadata": {},
   "outputs": [
    {
     "name": "stdout",
     "output_type": "stream",
     "text": [
      "[1789, 1797, 1801, 1805, 1809, 1813, 1817, 1825, 1829, 1833, 1837, 1841, 1841, 1841, 1845, 1849, 1850, 1853, 1857, 1861, 1864, 1865, 1868, 1869, 1873, 1877, 1881, 1881, 1885, 1889, 1893, 1897, 1901, 1901, 1905, 1909, 1913, 1921, 1923, 1925, 1929, 1933, 1941, 1945, 1945, 1949, 1953, 1961, 1963, 1965, 1969, 1974, 1977, 1981, 1989, 1993, 2001, 2009, 2017]\n"
     ]
    }
   ],
   "source": [
    "\n",
    "# which president was in office for long time and when he left\n",
    "year_pattern = re.compile(r'\\d\\d\\d\\d')\n",
    "term_in_office = []\n",
    "president_and_term = {}\n",
    "for i in filter(None, dataframe['Presidency']):\n",
    "    if year_pattern.search(i):\n",
    "        term_in_office.append((int(year_pattern.search(i).group(0))))\n",
    "        \n",
    "print(term_in_office)\n",
    "\n"
   ]
  },
  {
   "cell_type": "code",
   "execution_count": 140,
   "metadata": {},
   "outputs": [
    {
     "name": "stdout",
     "output_type": "stream",
     "text": [
      "7\n"
     ]
    }
   ],
   "source": [
    "\n",
    "# How many presidents with same forenames? \n",
    "forenames = {name:0 for name in first_names_tot_presidents()[0]}\n",
    "for key, value in forenames.items():\n",
    "    for name in filter(None, dataframe['Presidents']):\n",
    "        if key == name.split()[0]:\n",
    "            forenames[key] += 1\n",
    "        continue\n",
    "\n",
    "# This prints the names and the total for that name\n",
    "# print(forenames)\n",
    "total = 0\n",
    "for key in forenames.keys():\n",
    "    if forenames[key] > 1:\n",
    "        total += 1\n",
    "\n",
    "# Total number of presidents with similar forenames\n",
    "print(total)\n",
    "        \n",
    "\n",
    "\n",
    "\n"
   ]
  },
  {
   "cell_type": "code",
   "execution_count": 64,
   "metadata": {},
   "outputs": [],
   "source": [
    "\n",
    "# oldest president ever elected\n",
    "def oldest_president_ever_elected():\n",
    "    pass\n"
   ]
  },
  {
   "cell_type": "code",
   "execution_count": 65,
   "metadata": {},
   "outputs": [],
   "source": [
    "\n",
    "# youngest president elected\n",
    "def youngest_president_elect():\n",
    "    pass\n"
   ]
  },
  {
   "cell_type": "code",
   "execution_count": 66,
   "metadata": {},
   "outputs": [],
   "source": [
    "\n",
    "# president who lived to an old age after leaving office\n",
    "def president_who_lived_to_old_age_after_office():\n",
    "    pass\n"
   ]
  },
  {
   "cell_type": "code",
   "execution_count": 120,
   "metadata": {},
   "outputs": [
    {
     "name": "stdout",
     "output_type": "stream",
     "text": [
      "{'Democratic': 19, 'Republican': 19, 'National Union': 1, 'Federalist': 1, 'Whig': 4, 'Unaffiliated': 1}\n"
     ]
    },
    {
     "data": {
      "image/png": "[encoded data removed]",
      "text/plain": [
       "<Figure size 432x288 with 1 Axes>"
      ]
     },
     "metadata": {
      "needs_background": "light"
     },
     "output_type": "display_data"
    }
   ],
   "source": [
    "# Graph that shows no. of presidents and their respective political parties and party with many presidents\n",
    "parties = {\"Democratic\":0 , \"Republican\":0, \"National Union\":0, \"Federalist\":0, \"Whig\":0, \"Unaffiliated\":0}\n",
    "for key,value in parties.items():\n",
    "    for party in filter(None, dataframe['Party']):\n",
    "        if party.startswith(key):\n",
    "            parties[key] += 1\n",
    "        continue\n",
    "        \n",
    "print(parties)\n",
    "\n",
    "font = {'family': 'serif',\n",
    "        'color':  'darkred',\n",
    "        'weight': 'normal',\n",
    "        'size': 16,\n",
    "        }\n",
    "\n",
    "plt.title('Graph shows no of presidents and political parties and party with many presidents', fontdict=font)\n",
    "plt.bar(*zip(*parties.items()), align='edge', width=0.3)\n",
    "plt.show()\n",
    "    \n",
    "                \n",
    "                \n",
    "        \n",
    "        \n",
    "\n"
   ]
  },
  {
   "cell_type": "code",
   "execution_count": null,
   "metadata": {},
   "outputs": [],
   "source": []
  },
  {
   "cell_type": "code",
   "execution_count": null,
   "metadata": {},
   "outputs": [],
   "source": []
  },
  {
   "cell_type": "code",
   "execution_count": null,
   "metadata": {},
   "outputs": [],
   "source": []
  }
 ],
 "metadata": {
  "kernelspec": {
   "display_name": "Python 3",
   "language": "python",
   "name": "python3"
  },
  "language_info": {
   "codemirror_mode": {
    "name": "ipython",
    "version": 3
   },
   "file_extension": ".py",
   "mimetype": "text/x-python",
   "name": "python",
   "nbconvert_exporter": "python",
   "pygments_lexer": "ipython3",
   "version": "3.7.5"
  }
 },
 "nbformat": 4,
 "nbformat_minor": 4
}
