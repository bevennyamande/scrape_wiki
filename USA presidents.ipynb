{
 "cells": [
  {
   "cell_type": "code",
   "execution_count": 38,
   "metadata": {},
   "outputs": [
    {
     "ename": "KeyError",
     "evalue": "\"['78'] not found in axis\"",
     "output_type": "error",
     "traceback": [
      "\u001b[0;31m---------------------------------------------------------------------------\u001b[0m",
      "\u001b[0;31mKeyError\u001b[0m                                  Traceback (most recent call last)",
      "\u001b[0;32m<ipython-input-38-79df5b57cc67>\u001b[0m in \u001b[0;36m<module>\u001b[0;34m\u001b[0m\n\u001b[1;32m     30\u001b[0m     \u001b[0;32mreturn\u001b[0m \u001b[0mdframe\u001b[0m\u001b[0;34m\u001b[0m\u001b[0;34m\u001b[0m\u001b[0m\n\u001b[1;32m     31\u001b[0m \u001b[0;34m\u001b[0m\u001b[0m\n\u001b[0;32m---> 32\u001b[0;31m \u001b[0mclean_data\u001b[0m\u001b[0;34m(\u001b[0m\u001b[0mnew_frame\u001b[0m\u001b[0;34m)\u001b[0m\u001b[0;34m\u001b[0m\u001b[0;34m\u001b[0m\u001b[0m\n\u001b[0m\u001b[1;32m     33\u001b[0m \u001b[0mnew_frame\u001b[0m\u001b[0;34m\u001b[0m\u001b[0;34m\u001b[0m\u001b[0m\n\u001b[1;32m     34\u001b[0m \u001b[0;34m\u001b[0m\u001b[0m\n",
      "\u001b[0;32m<ipython-input-38-79df5b57cc67>\u001b[0m in \u001b[0;36mclean_data\u001b[0;34m(dframe)\u001b[0m\n\u001b[1;32m     27\u001b[0m                             \u001b[0;34m'Vice President'\u001b[0m\u001b[0;34m:\u001b[0m \u001b[0;34m'Vice President'\u001b[0m\u001b[0;34m\u001b[0m\u001b[0;34m\u001b[0m\u001b[0m\n\u001b[1;32m     28\u001b[0m                            }, inplace=True)\n\u001b[0;32m---> 29\u001b[0;31m     \u001b[0mdframe\u001b[0m\u001b[0;34m.\u001b[0m\u001b[0mdrop\u001b[0m\u001b[0;34m(\u001b[0m\u001b[0;34m'78'\u001b[0m\u001b[0;34m)\u001b[0m\u001b[0;34m\u001b[0m\u001b[0;34m\u001b[0m\u001b[0m\n\u001b[0m\u001b[1;32m     30\u001b[0m     \u001b[0;32mreturn\u001b[0m \u001b[0mdframe\u001b[0m\u001b[0;34m\u001b[0m\u001b[0;34m\u001b[0m\u001b[0m\n\u001b[1;32m     31\u001b[0m \u001b[0;34m\u001b[0m\u001b[0m\n",
      "\u001b[0;32m/usr/local/lib/python3.7/dist-packages/pandas/core/frame.py\u001b[0m in \u001b[0;36mdrop\u001b[0;34m(self, labels, axis, index, columns, level, inplace, errors)\u001b[0m\n\u001b[1;32m   3992\u001b[0m             \u001b[0mlevel\u001b[0m\u001b[0;34m=\u001b[0m\u001b[0mlevel\u001b[0m\u001b[0;34m,\u001b[0m\u001b[0;34m\u001b[0m\u001b[0;34m\u001b[0m\u001b[0m\n\u001b[1;32m   3993\u001b[0m             \u001b[0minplace\u001b[0m\u001b[0;34m=\u001b[0m\u001b[0minplace\u001b[0m\u001b[0;34m,\u001b[0m\u001b[0;34m\u001b[0m\u001b[0;34m\u001b[0m\u001b[0m\n\u001b[0;32m-> 3994\u001b[0;31m             \u001b[0merrors\u001b[0m\u001b[0;34m=\u001b[0m\u001b[0merrors\u001b[0m\u001b[0;34m,\u001b[0m\u001b[0;34m\u001b[0m\u001b[0;34m\u001b[0m\u001b[0m\n\u001b[0m\u001b[1;32m   3995\u001b[0m         )\n\u001b[1;32m   3996\u001b[0m \u001b[0;34m\u001b[0m\u001b[0m\n",
      "\u001b[0;32m/usr/local/lib/python3.7/dist-packages/pandas/core/generic.py\u001b[0m in \u001b[0;36mdrop\u001b[0;34m(self, labels, axis, index, columns, level, inplace, errors)\u001b[0m\n\u001b[1;32m   3933\u001b[0m         \u001b[0;32mfor\u001b[0m \u001b[0maxis\u001b[0m\u001b[0;34m,\u001b[0m \u001b[0mlabels\u001b[0m \u001b[0;32min\u001b[0m \u001b[0maxes\u001b[0m\u001b[0;34m.\u001b[0m\u001b[0mitems\u001b[0m\u001b[0;34m(\u001b[0m\u001b[0;34m)\u001b[0m\u001b[0;34m:\u001b[0m\u001b[0;34m\u001b[0m\u001b[0;34m\u001b[0m\u001b[0m\n\u001b[1;32m   3934\u001b[0m             \u001b[0;32mif\u001b[0m \u001b[0mlabels\u001b[0m \u001b[0;32mis\u001b[0m \u001b[0;32mnot\u001b[0m \u001b[0;32mNone\u001b[0m\u001b[0;34m:\u001b[0m\u001b[0;34m\u001b[0m\u001b[0;34m\u001b[0m\u001b[0m\n\u001b[0;32m-> 3935\u001b[0;31m                 \u001b[0mobj\u001b[0m \u001b[0;34m=\u001b[0m \u001b[0mobj\u001b[0m\u001b[0;34m.\u001b[0m\u001b[0m_drop_axis\u001b[0m\u001b[0;34m(\u001b[0m\u001b[0mlabels\u001b[0m\u001b[0;34m,\u001b[0m \u001b[0maxis\u001b[0m\u001b[0;34m,\u001b[0m \u001b[0mlevel\u001b[0m\u001b[0;34m=\u001b[0m\u001b[0mlevel\u001b[0m\u001b[0;34m,\u001b[0m \u001b[0merrors\u001b[0m\u001b[0;34m=\u001b[0m\u001b[0merrors\u001b[0m\u001b[0;34m)\u001b[0m\u001b[0;34m\u001b[0m\u001b[0;34m\u001b[0m\u001b[0m\n\u001b[0m\u001b[1;32m   3936\u001b[0m \u001b[0;34m\u001b[0m\u001b[0m\n\u001b[1;32m   3937\u001b[0m         \u001b[0;32mif\u001b[0m \u001b[0minplace\u001b[0m\u001b[0;34m:\u001b[0m\u001b[0;34m\u001b[0m\u001b[0;34m\u001b[0m\u001b[0m\n",
      "\u001b[0;32m/usr/local/lib/python3.7/dist-packages/pandas/core/generic.py\u001b[0m in \u001b[0;36m_drop_axis\u001b[0;34m(self, labels, axis, level, errors)\u001b[0m\n\u001b[1;32m   3967\u001b[0m                 \u001b[0mnew_axis\u001b[0m \u001b[0;34m=\u001b[0m \u001b[0maxis\u001b[0m\u001b[0;34m.\u001b[0m\u001b[0mdrop\u001b[0m\u001b[0;34m(\u001b[0m\u001b[0mlabels\u001b[0m\u001b[0;34m,\u001b[0m \u001b[0mlevel\u001b[0m\u001b[0;34m=\u001b[0m\u001b[0mlevel\u001b[0m\u001b[0;34m,\u001b[0m \u001b[0merrors\u001b[0m\u001b[0;34m=\u001b[0m\u001b[0merrors\u001b[0m\u001b[0;34m)\u001b[0m\u001b[0;34m\u001b[0m\u001b[0;34m\u001b[0m\u001b[0m\n\u001b[1;32m   3968\u001b[0m             \u001b[0;32melse\u001b[0m\u001b[0;34m:\u001b[0m\u001b[0;34m\u001b[0m\u001b[0;34m\u001b[0m\u001b[0m\n\u001b[0;32m-> 3969\u001b[0;31m                 \u001b[0mnew_axis\u001b[0m \u001b[0;34m=\u001b[0m \u001b[0maxis\u001b[0m\u001b[0;34m.\u001b[0m\u001b[0mdrop\u001b[0m\u001b[0;34m(\u001b[0m\u001b[0mlabels\u001b[0m\u001b[0;34m,\u001b[0m \u001b[0merrors\u001b[0m\u001b[0;34m=\u001b[0m\u001b[0merrors\u001b[0m\u001b[0;34m)\u001b[0m\u001b[0;34m\u001b[0m\u001b[0;34m\u001b[0m\u001b[0m\n\u001b[0m\u001b[1;32m   3970\u001b[0m             \u001b[0mresult\u001b[0m \u001b[0;34m=\u001b[0m \u001b[0mself\u001b[0m\u001b[0;34m.\u001b[0m\u001b[0mreindex\u001b[0m\u001b[0;34m(\u001b[0m\u001b[0;34m**\u001b[0m\u001b[0;34m{\u001b[0m\u001b[0maxis_name\u001b[0m\u001b[0;34m:\u001b[0m \u001b[0mnew_axis\u001b[0m\u001b[0;34m}\u001b[0m\u001b[0;34m)\u001b[0m\u001b[0;34m\u001b[0m\u001b[0;34m\u001b[0m\u001b[0m\n\u001b[1;32m   3971\u001b[0m \u001b[0;34m\u001b[0m\u001b[0m\n",
      "\u001b[0;32m/usr/local/lib/python3.7/dist-packages/pandas/core/indexes/base.py\u001b[0m in \u001b[0;36mdrop\u001b[0;34m(self, labels, errors)\u001b[0m\n\u001b[1;32m   5016\u001b[0m         \u001b[0;32mif\u001b[0m \u001b[0mmask\u001b[0m\u001b[0;34m.\u001b[0m\u001b[0many\u001b[0m\u001b[0;34m(\u001b[0m\u001b[0;34m)\u001b[0m\u001b[0;34m:\u001b[0m\u001b[0;34m\u001b[0m\u001b[0;34m\u001b[0m\u001b[0m\n\u001b[1;32m   5017\u001b[0m             \u001b[0;32mif\u001b[0m \u001b[0merrors\u001b[0m \u001b[0;34m!=\u001b[0m \u001b[0;34m\"ignore\"\u001b[0m\u001b[0;34m:\u001b[0m\u001b[0;34m\u001b[0m\u001b[0;34m\u001b[0m\u001b[0m\n\u001b[0;32m-> 5018\u001b[0;31m                 \u001b[0;32mraise\u001b[0m \u001b[0mKeyError\u001b[0m\u001b[0;34m(\u001b[0m\u001b[0;34mf\"{labels[mask]} not found in axis\"\u001b[0m\u001b[0;34m)\u001b[0m\u001b[0;34m\u001b[0m\u001b[0;34m\u001b[0m\u001b[0m\n\u001b[0m\u001b[1;32m   5019\u001b[0m             \u001b[0mindexer\u001b[0m \u001b[0;34m=\u001b[0m \u001b[0mindexer\u001b[0m\u001b[0;34m[\u001b[0m\u001b[0;34m~\u001b[0m\u001b[0mmask\u001b[0m\u001b[0;34m]\u001b[0m\u001b[0;34m\u001b[0m\u001b[0;34m\u001b[0m\u001b[0m\n\u001b[1;32m   5020\u001b[0m         \u001b[0;32mreturn\u001b[0m \u001b[0mself\u001b[0m\u001b[0;34m.\u001b[0m\u001b[0mdelete\u001b[0m\u001b[0;34m(\u001b[0m\u001b[0mindexer\u001b[0m\u001b[0;34m)\u001b[0m\u001b[0;34m\u001b[0m\u001b[0;34m\u001b[0m\u001b[0m\n",
      "\u001b[0;31mKeyError\u001b[0m: \"['78'] not found in axis\""
     ]
    }
   ],
   "source": [
    "import re\n",
    "import requests                \n",
    "from bs4 import BeautifulSoup\n",
    "import pandas as pd\n",
    "import matplotlib.pyplot as plt\n",
    "import numpy as np\n",
    "\n",
    "\n",
    "df = pd.read_html(\"https://en.wikipedia.org/wiki/List_of_presidents_of_the_United_States\", header=0)[1]\n",
    "\n",
    "def get_names(args):\n",
    "    '''Helper function to get nice names'''\n",
    "    names = []\n",
    "    namepattern = re.compile(r'^[A-Za-z]+\\s[A-Za-z.\\]\\s[A-Z]+[a-z]+')\n",
    "    for n in args:\n",
    "        if namepattern.match(n):\n",
    "            names.append(namepattern.match(n).group(0))\n",
    "    return names\n",
    "\n",
    "new_frame = df\n",
    "\n",
    "def clean_data(dframe):\n",
    "    dframe.rename(columns={'Presidency[a]': 'Terms',\n",
    "                            'Presidency[a].1': 'Years of Presidency',\n",
    "                            'President.1': 'Name',\n",
    "                            'Party[b].1': 'Party',\n",
    "                            'Vice President': 'Vice President'                       \n",
    "                           }, inplace=True)\n",
    "    dframe.drop(78, inplace=True)\n",
    "    return dframe\n",
    "\n",
    "clean_data(new_frame)\n",
    "new_frame\n",
    "\n",
    "    "
   ]
  },
  {
   "cell_type": "code",
   "execution_count": 238,
   "metadata": {},
   "outputs": [
    {
     "name": "stdout",
     "output_type": "stream",
     "text": [
      "How many presidents on the page : 45\n"
     ]
    }
   ],
   "source": [
    "# How many presidents are on the page\n",
    "print(f\"How many presidents on the page : {len(set(df['Presidency[a]']))}\")"
   ]
  },
  {
   "cell_type": "code",
   "execution_count": 239,
   "metadata": {},
   "outputs": [
    {
     "name": "stdout",
     "output_type": "stream",
     "text": [
      "['William McKinley', 'James A. Garfield', 'John F. Kennedy', 'Abraham Lincoln']\n"
     ]
    }
   ],
   "source": [
    "\n",
    "# Which presidents were assasinated\n",
    "assassination_pattern = re.compile(r'''Assassinated''')\n",
    "assassinated = []\n",
    "for index in range(len(df['Presidency[a].1'])):\n",
    "    if df['Presidency[a].1'][index]:\n",
    "        if assassination_pattern.search(df['Presidency[a].1'][index]):\n",
    "            assassinated.append(df['President.1'][index])\n",
    "print(get_names(list(set(assassinated))))\n",
    "\n"
   ]
  },
  {
   "cell_type": "code",
   "execution_count": 240,
   "metadata": {},
   "outputs": [
    {
     "name": "stdout",
     "output_type": "stream",
     "text": [
      "['Andrew Johnson', 'Millard Fillmore', 'John Tyler', 'Theodore Roosevelt', 'Lyndon B. Johnson', 'Gerald Ford', 'George H. W. Bush', 'Thomas Jefferson', 'Calvin Coolidge', 'Martin Van Buren', 'Richard Nixon', 'John Adams', 'Harry S. Truman', 'Chester A. Arthur']\n"
     ]
    }
   ],
   "source": [
    "# Presidents selected after serving as vice presidents\n",
    "vices = []\n",
    "vp_pattern = re.compile(r'vice president')\n",
    "for index in range(len(df['Prior office[b]'])):\n",
    "    if df['Prior office[b]'][index]:\n",
    "        if vp_pattern.search(df['Prior office[b]'][index]):\n",
    "            vices.append(df['President.1'][index])\n",
    "print(get_names(list(set(vices))))"
   ]
  },
  {
   "cell_type": "code",
   "execution_count": 241,
   "metadata": {},
   "outputs": [],
   "source": [
    "# which presidents had one VP for duration of term"
   ]
  },
  {
   "cell_type": "code",
   "execution_count": 242,
   "metadata": {},
   "outputs": [],
   "source": [
    "# which president was in office for long time and when he left"
   ]
  },
  {
   "cell_type": "code",
   "execution_count": 243,
   "metadata": {},
   "outputs": [
    {
     "name": "stdout",
     "output_type": "stream",
     "text": [
      "Total number of Presidents with similar forenames: 6\n"
     ]
    }
   ],
   "source": [
    "# How many presidents with same forenames?\n",
    "\n",
    "# lets get the first names of all presidents and remove duplicates\n",
    "first_names = list(set(i.split()[0] for i in df['President.1']))\n",
    "\n",
    "firstnames = {} # will contain the unique first names and each name has 0 president so far\n",
    "for index in range(len(first_names)):\n",
    "    for name in first_names:\n",
    "        firstnames[name] = 0\n",
    "        \n",
    "# all unique names have a zero count\n",
    "# print(firstnames)\n",
    "\n",
    "for name in first_names:\n",
    "    for president in df['President.1'].drop_duplicates():\n",
    "        if president.startswith(name):\n",
    "            firstnames[name] += 1\n",
    "            continue\n",
    "# print(firstnames)\n",
    "\n",
    "# lets count how many names greater than 1\n",
    "total = 0\n",
    "for value in firstnames.values():\n",
    "    if value > 1:\n",
    "        total += 1\n",
    "        continue\n",
    "print(f'Total number of Presidents with similar forenames: {total}')\n",
    "        "
   ]
  },
  {
   "cell_type": "code",
   "execution_count": 244,
   "metadata": {},
   "outputs": [],
   "source": [
    "# oldest president ever elected\n"
   ]
  },
  {
   "cell_type": "code",
   "execution_count": 245,
   "metadata": {},
   "outputs": [],
   "source": [
    "# # youngest president elected\n",
    "# birthdates = []\n",
    "# dates_pattern = re.compile(r'\\d\\d\\d\\d')\n",
    "# for date in filter(None, dataframe['Presidents']):\n",
    "#     if dates_pattern.search(date):\n",
    "#         birthdates.append(dates_pattern.search(date).group(0))\n",
    "# # print(birthdates)"
   ]
  },
  {
   "cell_type": "code",
   "execution_count": 246,
   "metadata": {},
   "outputs": [
    {
     "name": "stdout",
     "output_type": "stream",
     "text": [
      "The president who lived to an old age after leaving office is: Jimmy CarterBorn 1924(95 years old)[114][115][116]\n"
     ]
    }
   ],
   "source": [
    "# president who lived to an old age after leaving office\n",
    "# question not clear so i think presidents who left office but are still alive\n",
    "birthdays = []\n",
    "birth_pattern = re.compile(r'Born\\s\\d\\d\\d\\d')\n",
    "for birth in filter(None, df['President.1']):\n",
    "    if birth_pattern.search(birth):\n",
    "        birthdays.append(birth)\n",
    "\n",
    "data = {}\n",
    "age_pattern = re.compile(r'''(\\d\\d years old)''')\n",
    "for num, name in enumerate(birthdays):\n",
    "    if age_pattern.search(name):\n",
    "        data.update({name: age_pattern.search(name).group(0).split()[0]})\n",
    "        \n",
    "# now print the president with the highest age and still living\n",
    "print(f'''The president who lived to an old age after leaving office is: {max(data)}''')"
   ]
  },
  {
   "cell_type": "code",
   "execution_count": 247,
   "metadata": {},
   "outputs": [
    {
     "data": {
      "image/png": "[encoded data removed]",
      "text/plain": [
       "<Figure size 640x480 with 1 Axes>"
      ]
     },
     "metadata": {},
     "output_type": "display_data"
    }
   ],
   "source": [
    "# Graph that shows no. of presidents and their respective political parties and party with many presidents\n",
    "parties = {\"Democratic\":0 , \"Republican\":0, \"National Union\":0,\n",
    "           \"Federalist\":0, \"Whig\":0, \"Unaffiliated\":0,\n",
    "           \"Democratic-Republican\":0, \"National Republican\":0,\n",
    "           \"Republican(National Union)\":0}\n",
    "\n",
    "for key,value in parties.items():\n",
    "    for party in filter(None, df['Party[c].1']):\n",
    "        if re.match(key, party):\n",
    "            parties[key] += 1\n",
    "        continue\n",
    "        \n",
    "# print(parties)\n",
    "\n",
    "font = {'family': 'serif',\n",
    "        'color':  'darkred',\n",
    "        'weight': 'normal',\n",
    "        'size': 14,\n",
    "        }\n",
    "\n",
    "\n",
    "plt.rcdefaults()\n",
    "with plt.style.context('Solarize_Light2'):\n",
    "    fig, ax = plt.subplots()\n",
    "    y_pos = np.arange(len(parties))\n",
    "    presidents = 3 + 10 * np.random.rand(len(parties))\n",
    "    error = np.random.rand(len(parties))\n",
    "    ax.barh(*zip(*parties.items()), xerr=error, align='center')\n",
    "    ax.set_yticks(y_pos)\n",
    "    ax.set_yticklabels(parties)\n",
    "    ax.invert_yaxis()  # labels read top-to-bottom\n",
    "    ax.set_xlabel('No of Presidents Elect')\n",
    "    ax.set_title('No. of Presidents and political parties', fontdict=font) \n",
    "plt.show()\n",
    "    "
   ]
  },
  {
   "cell_type": "code",
   "execution_count": 248,
   "metadata": {},
   "outputs": [],
   "source": [
    "# From the graph the party with many presidents elect is the Democratic party"
   ]
  },
  {
   "cell_type": "code",
   "execution_count": null,
   "metadata": {},
   "outputs": [],
   "source": []
  },
  {
   "cell_type": "code",
   "execution_count": null,
   "metadata": {},
   "outputs": [],
   "source": []
  }
 ],
 "metadata": {
  "kernelspec": {
   "display_name": "Python 3",
   "language": "python",
   "name": "python3"
  },
  "language_info": {
   "codemirror_mode": {
    "name": "ipython",
    "version": 3
   },
   "file_extension": ".py",
   "mimetype": "text/x-python",
   "name": "python",
   "nbconvert_exporter": "python",
   "pygments_lexer": "ipython3",
   "version": "3.7.6"
  }
 },
 "nbformat": 4,
 "nbformat_minor": 4
}
